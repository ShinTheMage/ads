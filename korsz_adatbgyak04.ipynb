{
    "metadata": {
        "kernelspec": {
            "name": "SQL",
            "display_name": "SQL",
            "language": "sql"
        },
        "language_info": {
            "name": "sql",
            "version": ""
        },
        "extensions": {
            "azuredatastudio": {
                "version": 1,
                "views": []
            }
        }
    },
    "nbformat_minor": 2,
    "nbformat": 4,
    "cells": [
        {
            "cell_type": "markdown",
            "source": [
                "<span style=\"color: rgb(18, 38, 44); font-family: Arial; font-size: 15px; background-color: rgb(239, 249, 252);\">Számítsa ki, hogy átlagosan hány napig tartottak a foglalások&nbsp;</span> <span style=\"box-sizing: border-box; color: rgb(18, 38, 44); font-family: Arial; font-size: 0.9375rem; background-color: rgb(239, 249, 252);\">szállásonként, illetve ügyfelenként (külön-külön)!<br style=\"box-sizing: border-box;\">A szállás,&nbsp;</span> <span id=\"yui_3_17_2_1_1709542612319_588\" style=\"box-sizing: border-box; color: rgb(18, 38, 44); font-family: Arial; font-size: 0.9375rem; background-color: rgb(239, 249, 252);\">illetve az ügyfél esetén elég az azonosítójukat megadni.</span>"
            ],
            "metadata": {
                "azdata_cell_guid": "5d4fc64b-083a-4ec0-9494-d65c180b83aa"
            },
            "attachments": {}
        },
        {
            "cell_type": "code",
            "source": [
                "SELECT sz.szallas_fk,\r\n",
                "       f.ugyfel_fk,\r\n",
                "       avg(datediff(day, f.mettol, f.meddig))\r\n",
                "FROM foglalas f join szoba sz on f.szoba_fk = sz.szoba_id\r\n",
                "group by grouping sets(f.szallas_fk, f.ugyfel_fk)"
            ],
            "metadata": {
                "azdata_cell_guid": "f96f258a-98f7-4df6-bced-043b9436d160"
            },
            "outputs": [
                {
                    "output_type": "error",
                    "evalue": "Execution failed due to an unexpected error: \r\n\tCannot connect to the database due to invalid OwnerUri (Parameter 'OwnerUri')",
                    "ename": "",
                    "traceback": []
                },
                {
                    "output_type": "display_data",
                    "data": {
                        "text/html": "Total execution time: 00:00:00"
                    },
                    "metadata": {}
                }
            ],
            "execution_count": 1
        },
        {
            "cell_type": "markdown",
            "source": [
                "Készítsünk lekérdezést, amely megadja, hogy szállás típusonként, <span style=\"box-sizing: border-box; font-size: 0.9375rem;\">azon belül szálláshely kategóriánként (csillagok_szama) hány&nbsp;</span> <span style=\"box-sizing: border-box; font-size: 0.9375rem;\">db szálláshely van!&nbsp;</span> \n",
                "\n",
                "<span style=\"box-sizing: border-box; font-size: 0.9375rem;\">a. A lista jelenítse&nbsp; meg a részösszegeket és&nbsp;</span> <span style=\"box-sizing: border-box; font-size: 0.9375rem;\">a végösszeget is (csak a végösszeget kell külön elnevezni)</span>"
            ],
            "metadata": {
                "azdata_cell_guid": "ab09b83d-a083-4049-a97e-acc3d0aba187"
            },
            "attachments": {}
        },
        {
            "cell_type": "code",
            "source": [
                "SELECT isnull(tipus, 'vegosszeg'), \r\n",
                "       csillagok_szama,\r\n",
                "       COUNT(*)\r\n",
                "FROM szallashely\r\n",
                "group BY rollup(tipus, csiilagok_szama)"
            ],
            "metadata": {
                "azdata_cell_guid": "d7f658cc-1a74-4bf7-9013-db0d325dea60",
                "tags": []
            },
            "outputs": [
                {
                    "output_type": "error",
                    "evalue": "Execution failed due to an unexpected error: \r\n\tCannot connect to the database due to invalid OwnerUri (Parameter 'OwnerUri')",
                    "ename": "",
                    "traceback": []
                },
                {
                    "output_type": "display_data",
                    "data": {
                        "text/html": "Total execution time: 00:00:00"
                    },
                    "metadata": {}
                }
            ],
            "execution_count": 2
        },
        {
            "cell_type": "markdown",
            "source": [
                "Jelenítsük meg az ügyfelek nevét, minden egyes foglalásuk <span style=\"box-sizing: border-box; font-size: 0.9375rem;\">kezdő dátumát, és azt, hogy a foglalás összesen hány főre&nbsp;</span> <span style=\"box-sizing: border-box; font-size: 0.9375rem;\">történt.&nbsp;</span> \n",
                "\n",
                "<span style=\"box-sizing: border-box; font-size: 0.9375rem;\">a. Egy új oszlopban mindig jelenjen meg az előző foglalás&nbsp;</span> <span style=\"box-sizing: border-box; font-size: 0.9375rem;\">kezdő dátuma is!</span>"
            ],
            "metadata": {
                "azdata_cell_guid": "eba3edf7-4f18-4456-b82e-1e38e2e9fd94"
            },
            "attachments": {}
        },
        {
            "cell_type": "code",
            "source": [
                "select u.nev,\r\n",
                "       f.mettol,\r\n",
                "       f.felnott_szam + f.gyermek_szam,\r\n",
                "       lag(f.mettol) over(order by f.foglalas_fk)\r\n",
                "from foglalas f join ugyfel u on f.ugyfel_fk = u.[LOGIN]"
            ],
            "metadata": {
                "azdata_cell_guid": "acd4ce7a-d123-4a6a-b8e6-198d69d59d85"
            },
            "outputs": [
                {
                    "output_type": "error",
                    "evalue": "Execution failed due to an unexpected error: \r\n\tCannot connect to the database due to invalid OwnerUri (Parameter 'OwnerUri')",
                    "ename": "",
                    "traceback": []
                },
                {
                    "output_type": "display_data",
                    "data": {
                        "text/html": "Total execution time: 00:00:00"
                    },
                    "metadata": {}
                }
            ],
            "execution_count": 3
        }
    ]
}