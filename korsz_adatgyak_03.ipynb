{
    "metadata": {
        "kernelspec": {
            "name": "SQL",
            "display_name": "SQL",
            "language": "sql"
        },
        "language_info": {
            "name": "sql",
            "version": ""
        },
        "extensions": {
            "azuredatastudio": {
                "version": 1,
                "views": []
            }
        }
    },
    "nbformat_minor": 2,
    "nbformat": 4,
    "cells": [
        {
            "cell_type": "markdown",
            "source": [
                "Készítsünk sorszámozott listát a szálláshelyek adatairól! \n",
                "\n",
                "a. A lista legyen a szálláshely típusa szerint, azon belül hely szerint, majd a neve szerint növekvően rendezve! \n",
                "\n",
                "b. A számozás típusonként kezdődjön újra!"
            ],
            "metadata": {
                "azdata_cell_guid": "bbb5ef33-0d84-401b-8f62-7f43f9886c44"
            },
            "attachments": {}
        },
        {
            "cell_type": "code",
            "source": [
                "SELECT *,\r\n",
                "       Row_number() over(partition by tipus order by tipus, hely, szallas_nev) \r\n",
                "from szallashely"
            ],
            "metadata": {
                "azdata_cell_guid": "a8318b74-a85b-4d57-8207-e77ea52f64ff",
                "tags": [
                    "hide_input"
                ]
            },
            "outputs": [
                {
                    "output_type": "error",
                    "evalue": "Execution failed due to an unexpected error: \r\n\tCannot connect to the database due to invalid OwnerUri (Parameter 'OwnerUri')",
                    "ename": "",
                    "traceback": []
                },
                {
                    "output_type": "display_data",
                    "data": {
                        "text/html": "Total execution time: 00:00:00"
                    },
                    "metadata": {}
                }
            ],
            "execution_count": 85
        },
        {
            "cell_type": "markdown",
            "source": [
                "Készítsük listát, amely megjeleníti az ügyfelek azonosítóját, nevét és a foglalásainak kezdő- és befejező dátumát, valamint azt, hogy a foglalás összesen hány főre történt! \n",
                "\n",
                "a. Egy új oszlopban jelenítsük meg azt is, hogy az ügyfél előző három foglalása összesen hány főre történt!"
            ],
            "metadata": {
                "azdata_cell_guid": "af03523b-af43-4b96-a3f2-8d9a394542cf"
            },
            "attachments": {}
        },
        {
            "cell_type": "code",
            "source": [
                "SELECT u.[login],\r\n",
                "       u.nev,\r\n",
                "       f.mettol,\r\n",
                "       f.meddig,\r\n",
                "       f.felnott_szam + f.gyermek_szam,\r\n",
                "       --új oszlop: az előző 3 foglalás összesen\r\n",
                "       sum(f.felnott_szam + f.gyermek_szam) over(partition by u.login order by u.login, f.mettol rows between 3 preceding and 1 preceding)\r\n",
                "\r\n",
                "from foglalas f join ugyfel u on f.ugyfel_fk = u.[LOGIN]\r\n",
                ""
            ],
            "metadata": {
                "azdata_cell_guid": "21ed429c-f859-47ba-8b11-4565ec8e1862",
                "tags": [
                    "hide_input"
                ]
            },
            "outputs": [
                {
                    "output_type": "error",
                    "evalue": "Execution failed due to an unexpected error: \r\n\tCannot connect to the database due to invalid OwnerUri (Parameter 'OwnerUri')",
                    "ename": "",
                    "traceback": []
                },
                {
                    "output_type": "display_data",
                    "data": {
                        "text/html": "Total execution time: 00:00:00"
                    },
                    "metadata": {}
                }
            ],
            "execution_count": 87
        },
        {
            "cell_type": "markdown",
            "source": [
                "Alakítsa át a melléklet 1. pontjában lévő lekérdezést úgy, hogy JOIN helyett CROSS APLLY-t alkalmaz!\n",
                "\n",
                "a, Válaszként adja meg az átalakított lekérdezés kódját!"
            ],
            "metadata": {
                "azdata_cell_guid": "e59fa9b2-a2f4-4517-a5ac-f9a30650c726"
            },
            "attachments": {}
        },
        {
            "cell_type": "code",
            "source": [
                "select rt.termekkkod,\r\n",
                "       avg(rt.egysegar) as 'átlagos ár'\r\n",
                "from rendeles_tetel rt \r\n",
                "cross apply\r\n",
                "(\r\n",
                "    select *\r\n",
                "    from rendeles rt \r\n",
                "    where rt.sorszam = r.sorszam\r\n",
                ")r \r\n",
                "group by rt.termekkod\r\n",
                ""
            ],
            "metadata": {
                "azdata_cell_guid": "60657b76-a157-4af4-bfa1-1d72407adee1",
                "tags": [
                    "hide_input"
                ]
            },
            "outputs": [
                {
                    "output_type": "error",
                    "evalue": "Execution failed due to an unexpected error: \r\n\tCannot connect to the database due to invalid OwnerUri (Parameter 'OwnerUri')",
                    "ename": "",
                    "traceback": []
                },
                {
                    "output_type": "display_data",
                    "data": {
                        "text/html": "Total execution time: 00:00:00"
                    },
                    "metadata": {}
                }
            ],
            "execution_count": 88
        },
        {
            "cell_type": "markdown",
            "source": [
                "<span style=\"color: rgb(18, 38, 44); font-family: Arial; font-size: 15px; background-color: rgb(239, 249, 252);\">Alakítsa át a melléklet 2. pontjában lévő lekérdezést úgy, hogy mindkét (INNER) JOIN részbe sorra beilleszti a tanult JOIN HINT-eket (először mindkét helyre MERGE, majd HASH, utána LOOP, végül REMOTE).</span>  \n",
                "<span style=\"color: rgb(18, 38, 44); font-family: Arial; font-size: 15px; background-color: rgb(239, 249, 252);\">a. Melyik hint használata adja a legjobb megoldást?</span>  \n",
                "<span style=\"color: rgb(18, 38, 44); font-family: Arial; font-size: 15px; background-color: rgb(239, 249, 252);\">b. Mi lesz ezt a hint-et tartalmazó lekérdezés kódja?</span>"
            ],
            "metadata": {
                "azdata_cell_guid": "d0869843-4b69-40e7-8944-7435f0b50902"
            },
            "attachments": {}
        },
        {
            "cell_type": "code",
            "source": [
                "select rt.*,\r\n",
                "       u.nev,\r\n",
                "       sum(rt.mennyiseg*rt.egysegar)\r\n",
                "       over(partition by r.login order by rt.sorszam, termekkod rage between unbounded preceding and current row) as 'eddigi rendelési tételek összértéke'\r\n",
                "from rendeles_tetel rt inner merge join rendeles r on rt.sorszam = r.sorszam\r\n",
                "inner merge join ugyfel u on r.login = u.LOGIN"
            ],
            "metadata": {
                "azdata_cell_guid": "22f5dc52-7f78-48b3-a378-c2de8ab702e6"
            },
            "outputs": [
                {
                    "output_type": "error",
                    "evalue": "Execution failed due to an unexpected error: \r\n\tCannot connect to the database due to invalid OwnerUri (Parameter 'OwnerUri')",
                    "ename": "",
                    "traceback": []
                },
                {
                    "output_type": "display_data",
                    "data": {
                        "text/html": "Total execution time: 00:00:00"
                    },
                    "metadata": {}
                }
            ],
            "execution_count": 89
        },
        {
            "cell_type": "markdown",
            "source": [
                "<span style=\"color: rgb(18, 38, 44); font-family: Arial; font-size: 15px; background-color: rgb(239, 249, 252);\">Készítsen non-clustered indexet a Rendeles_tetel táblához!</span>  \n",
                "<span style=\"color: rgb(18, 38, 44); font-family: Arial; font-size: 15px; background-color: rgb(239, 249, 252);\">a. Az index neve NCI_sorszam_termekkod legyen</span>  \n",
                "<span style=\"color: rgb(18, 38, 44); font-family: Arial; font-size: 15px; background-color: rgb(239, 249, 252);\">b. A sorszam legyen az index kulcs oszlop, a termékkód pedig az indexbe belefoglalt oszlop</span>  \n",
                "<span style=\"color: rgb(18, 38, 44); font-family: Arial; font-size: 15px; background-color: rgb(239, 249, 252);\">c. Válaszként adja meg az indexet generáló script-et!</span>"
            ],
            "metadata": {
                "azdata_cell_guid": "8ccbf1e3-65ee-44c0-9f2b-ae45e1f83a0c"
            },
            "attachments": {}
        },
        {
            "cell_type": "code",
            "source": [
                ""
            ],
            "metadata": {
                "azdata_cell_guid": "3a7566a3-617f-47fb-8dd8-7db5245b598e"
            },
            "outputs": [],
            "execution_count": null
        }
    ]
}